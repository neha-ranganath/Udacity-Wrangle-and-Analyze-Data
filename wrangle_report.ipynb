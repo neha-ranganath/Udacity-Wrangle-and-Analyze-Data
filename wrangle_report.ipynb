{
 "cells": [
  {
   "cell_type": "markdown",
   "metadata": {},
   "source": [
    "# Report - Wrangle WeRateDogs Twitter Data \n",
    "\n",
    "The aim of this project was to gather data from the Twitter account WeRateDogs from multiple sources, clean this data, and analyze it. "
   ]
  },
  {
   "cell_type": "markdown",
   "metadata": {},
   "source": [
    "The tasks carried out in this project are as follows: <br>\n",
    "* Data wrangling, having the following steps:\n",
    "    * Gathering data .\n",
    "    * Assessing data\n",
    "    * Cleaning data\n",
    "* Storing, analyzing, and visualizing the wrangled data\n",
    "* Reporting on: <br>\n",
    "    * the data wrangling efforts \n",
    "    * data analysis and visualization\n"
   ]
  },
  {
   "cell_type": "markdown",
   "metadata": {},
   "source": [
    "## Gathering Data\n",
    "Data was gathered from 3 different sources:"
   ]
  },
  {
   "cell_type": "markdown",
   "metadata": {},
   "source": [
    "1. The WeRateDogs Twitter archive file 'twitter_archive_enhanced.csv' was provided in CSV format for download. \n",
    "<br>\n",
    "2. The tweet image predictions, i.e., what breed of dog (or other object, animal, etc.) is presented in each tweet according to a neural network. This file (image_predictions.tsv) is hosted on Udacity's servers and should be downloaded programmatically using the Requests library and the following URL:\n",
    "https://d17h27t6h515a5.cloudfront.net/topher/2017/August/599fd2ad_image-predictions/image-predictions.tsv\n",
    "<br>\n",
    "3. Querying the Twitter API for each tweet's JSON data using Python's Tweepy library and stored each tweet's entire set of JSON data in a file called tweet_json.txt file."
   ]
  },
  {
   "cell_type": "markdown",
   "metadata": {},
   "source": [
    "## Assessing Data"
   ]
  },
  {
   "cell_type": "markdown",
   "metadata": {},
   "source": [
    "After gathering the relevant data, the next step was to carry out programmatic and visual assessment. This assessment showed quality and tidiness issues, described below:"
   ]
  },
  {
   "cell_type": "markdown",
   "metadata": {},
   "source": [
    "### Quality issues\n",
    "1. Remove retweets from the dataset.\n",
    "\n",
    "2. Timestamp is in string format and should be in datetime format.\n",
    "\n",
    "3. Tweet_id is an integer, but should be a string.\n",
    "\n",
    "4. Many dogs do not have names and there is missing data in the names column.\n",
    "\n",
    "5. The dog stages columns doggo, floofer, pupper, and puppo contain many null or missing values.\n",
    "\n",
    "6. img_num column should be in string format.\n",
    "\n",
    "7. Remove columns with too many missing values: in_reply_to_status_id, in_reply_to_user_id, retweeted_status_id, retweeted_status_user_id, and retweeted_status_timestamp\n",
    "\n",
    "8. The types of dogs in columns p1, p2, and p3 had some uppercase and lowercase letters.\n",
    "\n",
    "### Tidiness issues\n",
    "1. doggo, floofer, pupper, puppo these 4 variables should be combined into one categorical variable - dog_type.\n",
    "2. Merge the dataframe twitter_archive, dataframe image_predictions, and tweet_json dataframes"
   ]
  },
  {
   "cell_type": "markdown",
   "metadata": {},
   "source": [
    "### Cleaning Data"
   ]
  },
  {
   "cell_type": "markdown",
   "metadata": {},
   "source": [
    "#### Issue #1:\n",
    "**Define:** <br>\n",
    "Merge the json, twitter, and image dataframes into a single dataframe.\n",
    "\n",
    "**Code** <br>\n",
    "```df2 = pd.concat([twitter, image, json], join='outer', axis=1)``` <br>\n",
    "\n",
    "**Test** <br>\n",
    "```df2.head()``` <br>\n",
    "```df2.columns``` <br>\n",
    "\n",
    "The test showed that the 3 dataframes were merged."
   ]
  },
  {
   "cell_type": "markdown",
   "metadata": {},
   "source": [
    "#### Issue #2:\n",
    "**Define:** <br>\n",
    "Remove retweets from the dataset and retain original tweets only. <br>\n",
    "\n",
    "**Code** <br>\n",
    "```df2.drop(['in_reply_to_status_id', 'in_reply_to_user_id', 'retweeted_status_id', 'retweeted_status_user_id', \n",
    "           'retweeted_status_timestamp'], axis=1, inplace=True)``` <br>\n",
    "\n",
    "**Test** <br>\n",
    "```df2.head()``` <br>\n",
    "```df2.columns``` <br>\n",
    "\n",
    "The test showed that the columns were dropped and retweets were removed."
   ]
  },
  {
   "cell_type": "markdown",
   "metadata": {},
   "source": [
    "#### Issue #3:\n",
    "**Define:** <br>\n",
    "Change img_num to string datatype. <br>\n",
    "\n",
    "**Code** <br>\n",
    "```df2['img_num'] = df2['img_num'].astype(str)``` <br>\n",
    "\n",
    "**Test** <br>\n",
    "```dtype(df2['img_num'][0])``` <br>\n",
    "\n",
    "The test showed that the datatype of img_num was changed to string."
   ]
  },
  {
   "cell_type": "markdown",
   "metadata": {},
   "source": [
    "#### Issue #4:\n",
    "**Define:** <br>\n",
    "Change tweet_id from integer to string. <br>\n",
    "\n",
    "**Code** <br>\n",
    "```df2['tweet_id'] = df2['tweet_id'].astype(str) ``` <br>\n",
    "\n",
    "**Test** <br>\n",
    "```type(df2.iloc[0,0]) ``` <br>\n",
    "\n",
    "The test showed that the datatype of img_num was changed to string from integer."
   ]
  },
  {
   "cell_type": "markdown",
   "metadata": {},
   "source": [
    "#### Issue #5:\n",
    "**Define:** <br>\n",
    "Change timestamp from string to datetime. <br>\n",
    "\n",
    "**Code** <br>\n",
    "```df2['timestamp'] = pd.to_datetime(df2['timestamp'], format = \"%Y-%m-%d \") ``` <br>\n",
    "\n",
    "**Test** <br>\n",
    "```type(df2['timestamp'][0]) ``` <br>\n",
    "\n",
    "The test confirmed that the timestamp column was in datetime format."
   ]
  },
  {
   "cell_type": "markdown",
   "metadata": {},
   "source": [
    "#### Issue #6:\n",
    "**Define:** <br>\n",
    "Fix the missing data in the names column and replace the incomplete values with nulls. <br>\n",
    "\n",
    "**Code** <br>\n",
    "```df2['name']=df2.name.replace(['None', 'a', 'an', 'very','the', 'not', 'quite', 'actually','by'], 'None') ``` <br>\n",
    "\n",
    "**Test** <br>\n",
    "```df2['name'].value_counts() ``` <br>\n",
    "\n",
    "The test confirmed that the incomplete values in the names column were replaced with 'None'."
   ]
  },
  {
   "cell_type": "markdown",
   "metadata": {},
   "source": [
    "#### Issue #7:\n",
    "**Define:** <br>\n",
    "Merge the dog stages columns doggo, floofer, pupper to a single column. There are some tweets that contain multiple dog stages, and this data will also need to be cleaned. <br>\n",
    "\n",
    "**Code** <br>\n",
    "```df2['dog_type']=df2['doggo']+df2['floofer']+df2['pupper']+df2['puppo']\n",
    "df2['dog_type'].value_counts()\n",
    "\n",
    "df2.loc[df2.dog_type == 'doggoNonepupperNone', 'dog_type'] = 'multiple'\n",
    "df2.loc[df2.dog_type == 'doggoNoneNonepuppo', 'dog_type'] = 'multiple'\n",
    "df2.loc[df2.dog_type == 'doggoflooferNoneNone', 'dog_type'] = 'multiple'\n",
    "\n",
    "df2['dog_type'] = df2['dog_type'].str.extract('(doggo|floofer|pupper|puppo|multiple)')\n",
    "\n",
    "df2.drop(['doggo', 'floofer', 'pupper', 'puppo'], axis=1, inplace=True)``` \n",
    "\n",
    "<br>\n",
    "\n",
    "**Test** <br>\n",
    "```df2['dog_type'].value_counts()``` <br>\n",
    "```df2.columns ``` <br>\n",
    "\n",
    "The test confirmed that the individual dog stages were merged into a single column - dog_type. Tweets thats contained more than one dog stage now had the dog_type value 'multiple'."
   ]
  },
  {
   "cell_type": "markdown",
   "metadata": {},
   "source": [
    "#### Issue #8:\n",
    "**Define:** <br>\n",
    "Change the types of dogs in columns p1, p2, and p3 to lowercase letters. <br>\n",
    "\n",
    "**Code** <br>\n",
    "```df2['p1'] = df2['p1'].str.lower()\n",
    "df2['p2'] = df2['p2'].str.lower()\n",
    "df2['p3'] = df2['p3'].str.lower() ``` <br>\n",
    "\n",
    "**Test** <br>\n",
    "``` df2['p1'].unique()\n",
    "df2['p2'].unique()\n",
    "df2['p3'].unique()```  <br>\n",
    "\n",
    "The test confirmed that the values in the columns p1, p2, and p3 were converted to lowercase."
   ]
  },
  {
   "cell_type": "markdown",
   "metadata": {},
   "source": [
    "### Storing Data"
   ]
  },
  {
   "cell_type": "markdown",
   "metadata": {},
   "source": [
    "Storing the cleaned data into a CSV file: <br>\n",
    "```df2.to_csv('twitter_archive_master.csv', encoding='utf-8', index=False)```\n"
   ]
  },
  {
   "cell_type": "code",
   "execution_count": 1,
   "metadata": {},
   "outputs": [
    {
     "data": {
      "text/plain": [
       "0"
      ]
     },
     "execution_count": 1,
     "metadata": {},
     "output_type": "execute_result"
    }
   ],
   "source": [
    "from subprocess import call\n",
    "call(['python', '-m', 'nbconvert', 'wrangle_report.ipynb'])"
   ]
  },
  {
   "cell_type": "code",
   "execution_count": null,
   "metadata": {},
   "outputs": [],
   "source": []
  }
 ],
 "metadata": {
  "kernelspec": {
   "display_name": "Python 3",
   "language": "python",
   "name": "python3"
  },
  "language_info": {
   "codemirror_mode": {
    "name": "ipython",
    "version": 3
   },
   "file_extension": ".py",
   "mimetype": "text/x-python",
   "name": "python",
   "nbconvert_exporter": "python",
   "pygments_lexer": "ipython3",
   "version": "3.6.3"
  }
 },
 "nbformat": 4,
 "nbformat_minor": 2
}
